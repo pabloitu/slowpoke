{
 "cells": [
  {
   "cell_type": "code",
   "execution_count": 1,
   "id": "8324ee29",
   "metadata": {},
   "outputs": [],
   "source": [
    "import pandas as pd\n",
    "import numpy as np\n",
    "\n",
    "def point_to_segment_distance(px, py, x1, y1, x2, y2):\n",
    "    dx = x2 - x1\n",
    "    dy = y2 - y1\n",
    "    d2 = dx**2 + dy**2\n",
    "    t = np.clip(((px - x1) * dx + (py - y1) * dy) / d2, 0, 1)\n",
    "    proj_x = x1 + t * dx\n",
    "    proj_y = y1 + t * dy\n",
    "    return np.hypot(px - proj_x, py - proj_y)"
   ]
  },
  {
   "cell_type": "code",
   "execution_count": null,
   "id": "313bd667",
   "metadata": {},
   "outputs": [],
   "source": [
    "trench_merged_orig = pd.read_csv('trench_merged.csv')\n",
    "trench_coords1 = [trench_merged_orig['Lon1'].values, trench_merged_orig['Lat1'].values]\n",
    "trench_coords2 = [trench_merged_orig['Lon2'].values, trench_merged_orig['Lat2'].values]\n",
    "\n",
    "# coordinates of earthquakes \n",
    "SSE_coords = [cat_sse['lon'].values, cat_sse['lat'].values]\n",
    "closest_segment_idx = []\n",
    "for px, py in zip(SSE_coords[0], SSE_coords[1]):\n",
    "    dists = point_to_segment_distance(px, py,\n",
    "                                      trench_coords1[0], trench_coords1[1],\n",
    "                                      trench_coords2[0], trench_coords2[1])\n",
    "    closest_segment_idx.append(np.argmin(dists))"
   ]
  }
 ],
 "metadata": {
  "kernelspec": {
   "display_name": "base",
   "language": "python",
   "name": "python3"
  },
  "language_info": {
   "codemirror_mode": {
    "name": "ipython",
    "version": 3
   },
   "file_extension": ".py",
   "mimetype": "text/x-python",
   "name": "python",
   "nbconvert_exporter": "python",
   "pygments_lexer": "ipython3",
   "version": "3.11.7"
  }
 },
 "nbformat": 4,
 "nbformat_minor": 5
}
