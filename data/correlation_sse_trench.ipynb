{
 "cells": [
  {
   "cell_type": "code",
   "execution_count": 1,
   "id": "1a21bc67",
   "metadata": {},
   "outputs": [],
   "source": [
    "import pandas as pd\n",
    "import numpy as np\n",
    "from scipy.stats import pearsonr"
   ]
  },
  {
   "cell_type": "code",
   "execution_count": 3,
   "id": "51e4eba5",
   "metadata": {},
   "outputs": [
    {
     "name": "stdout",
     "output_type": "stream",
     "text": [
      "                   correlation       p_value\n",
      "strike   Vt1          0.461496  8.311358e-36\n",
      "slip     A            0.382602  1.047341e-23\n",
      "         Vsub1        0.343661  5.650082e-21\n",
      "         M56_vc       0.337703  2.888397e-20\n",
      "mag      M56_vs       0.337042  1.981712e-26\n",
      "dip      alphaS       0.320513  1.172271e-15\n",
      "slip     ZT           0.311661  2.403623e-17\n",
      "mag      M56_vc       0.298410  8.301548e-21\n",
      "slip     M56_vs       0.293245  1.899105e-15\n",
      "         Tchannel     0.269041  1.105027e-08\n",
      "duration Vup1         0.257701  4.169033e-11\n",
      "mag      Phi          0.244900  1.488326e-06\n",
      "         Vsub1        0.217567  1.518467e-11\n",
      "         Tchannel     0.208747  5.022367e-06\n",
      "         Vup1         0.200505  5.449826e-10\n",
      "depth    ZT          -0.204610  2.368097e-10\n",
      "length   A           -0.221683  5.578616e-08\n",
      "strike   A           -0.274788  1.201622e-11\n",
      "depth    A           -0.288044  5.230403e-18\n",
      "         alphaS      -0.307598  4.659722e-19\n",
      "         Phi         -0.315259  3.818321e-10\n",
      "strike   Phi         -0.333327  3.916031e-07\n",
      "depth    Vsub1       -0.355766  1.852940e-29\n",
      "strike   Tchannel    -0.368471  6.889075e-15\n"
     ]
    }
   ],
   "source": [
    "cat_sse_plusTranch = pd.read_csv('cat_sse_plusTranch.csv')\n",
    "\n",
    "cat_sse_plusTranch.replace('-', np.nan, inplace=True)\n",
    "\n",
    "df1 = cat_sse_plusTranch[['depth', 'mag', 'strike', 'dip', 'length', 'width',\n",
    "       'slip', 'duration']]\n",
    "\n",
    "# A (miss 7%): age\n",
    "# alphaS (miss 15%): shallow slab dip measured between 0 and 125 km depth\n",
    "# ZT (miss 0): trench depth\n",
    "# Tchannel (miss 50%): subduction channel sediment thickness (potentially subject to large variations) \n",
    "# Phi: thermal parameter, product of A with the vertical component of trench-normal subduction velocity \n",
    "# M56_vs: subduction velocity, accounting for upper plate deformation\n",
    "# Vup1 (miss 0): upper plate velocity\n",
    "# Vsub1 (miss 0): subducting plate velocity\n",
    "# Vt (miss 0): trench velocity\n",
    "# M56_vc: convergence velocity \n",
    "col_to_corr = ['A', 'alphaS', 'ZT', 'Tchannel', 'Phi', 'M56_vs', 'M56_vc' ,'Vup1', 'Vsub1', 'Vt1']\n",
    "\n",
    "df2 = cat_sse_plusTranch[col_to_corr]\n",
    "# If df1 and df2 have different columns and you want *all pairwise* correlations:\n",
    "results_corr = pd.DataFrame(index=['depth', 'mag', 'strike', 'dip', 'length', 'width',\n",
    "       'slip', 'duration'], columns=col_to_corr)\n",
    "results_pv = pd.DataFrame(index=['depth', 'mag', 'strike', 'dip', 'length', 'width',\n",
    "       'slip', 'duration'], columns=col_to_corr)\n",
    "\n",
    "for col1 in df1.columns:\n",
    "    for col2 in df2.columns:\n",
    "        s1 = df1[col1]\n",
    "        s2 = df2[col2]\n",
    "        mask = ~np.isnan(s1) & ~np.isnan(s2)\n",
    "        s1 = s1[mask]\n",
    "        s2 = s2[mask]\n",
    "        # Compute correlation with dropped NaNs\n",
    "        corr, p_value = pearsonr(s1, s2)\n",
    "        results_corr.loc[col1, col2] = corr\n",
    "        results_pv.loc[col1, col2] = p_value\n",
    "\n",
    "# Flatten the DataFrame\n",
    "stacked_corr = results_corr.stack().astype(float)\n",
    "stacked_pv = results_pv.stack().astype(float)\n",
    "\n",
    "mask = (stacked_corr > 0.2) | (stacked_corr < -0.2)\n",
    "filtered_corr = stacked_corr[mask]\n",
    "filtered_pv = stacked_pv[mask]\n",
    "\n",
    "# Optional: sort values\n",
    "filtered_df = pd.DataFrame({\n",
    "    'correlation': filtered_corr,\n",
    "    'p_value': filtered_pv\n",
    "}).sort_values(by='correlation', ascending=False)\n",
    "\n",
    "\n",
    "# Show result\n",
    "print(filtered_df)"
   ]
  }
 ],
 "metadata": {
  "kernelspec": {
   "display_name": "base",
   "language": "python",
   "name": "python3"
  },
  "language_info": {
   "codemirror_mode": {
    "name": "ipython",
    "version": 3
   },
   "file_extension": ".py",
   "mimetype": "text/x-python",
   "name": "python",
   "nbconvert_exporter": "python",
   "pygments_lexer": "ipython3",
   "version": "3.11.7"
  }
 },
 "nbformat": 4,
 "nbformat_minor": 5
}
